{
 "cells": [
  {
   "cell_type": "markdown",
   "metadata": {},
   "source": [
    "# Day 01: Report Repair\n",
    "<hr>\n",
    "After saving Christmas five years in a row, you've decided to take a vacation at a nice resort on a tropical island. Surely, Christmas will go on without you.\n",
    "\n",
    "The tropical island has its own currency and is entirely cash-only. The gold coins used there have a little picture of a starfish; the locals just call them stars. None of the currency exchanges seem to have heard of them, but somehow, you'll need to find fifty of these coins by the time you arrive so you can pay the deposit on your room.\n",
    "\n",
    "To save your vacation, you need to get all fifty stars by December 25th.\n",
    "\n",
    "Collect stars by solving puzzles. Two puzzles will be made available on each day in the Advent calendar; the second puzzle is unlocked when you complete the first. Each puzzle grants one star. Good luck!\n",
    "\n",
    "## Part One\n",
    "<hr>\n",
    "\n",
    "Before you leave, the Elves in accounting just need you to fix your expense report (your puzzle input); apparently, something isn't quite adding up.\n",
    "\n",
    "Specifically, they need you to find the two entries that sum to 2020 and then multiply those two numbers together.\n",
    "\n",
    "For example, suppose your expense report contained the following: <br>\n",
    "`1721\n",
    "979\n",
    "366\n",
    "299\n",
    "675\n",
    "1456`\n",
    "\n",
    "In this list, the two entries that sum to `2020` are `1721` and `299`. Multiplying them together produces `1721 * 299 = 514579`, so the correct answer is `514579`.\n",
    "\n",
    "Of course, your expense report is much larger. <strong>Find the two entries that sum to 2020; what do you get if you multiply them together?</strong>"
   ]
  },
  {
   "cell_type": "code",
   "execution_count": 1,
   "metadata": {},
   "outputs": [],
   "source": [
    "# Read Input\n",
    "expense_report = set(int(line.rstrip()) for line in open(\"day01_input.txt\", \"r\"))"
   ]
  },
  {
   "cell_type": "code",
   "execution_count": 2,
   "metadata": {},
   "outputs": [
    {
     "name": "stdout",
     "output_type": "stream",
     "text": [
      "928896\n"
     ]
    }
   ],
   "source": [
    "def find_entries(data_input, target=2020):\n",
    "    first_entry = 0\n",
    "    second_entry = 0\n",
    "    \n",
    "    for entry in expense_report:\n",
    "        first_entry = entry\n",
    "        second_entry = target - first_entry\n",
    "        if second_entry in expense_report:\n",
    "            return first_entry, second_entry\n",
    "\n",
    "def multiply_two():\n",
    "    first_entry, second_entry = find_entries(expense_report)\n",
    "    return first_entry * second_entry\n",
    "\n",
    "print(multiply_two())"
   ]
  },
  {
   "cell_type": "markdown",
   "metadata": {},
   "source": [
    "## Part Two\n",
    "<hr>\n",
    "The Elves in accounting are thankful for your help; one of them even offers you a starfish coin they had left over from a past vacation. They offer you a second one if you can find three numbers in your expense report that meet the same criteria.\n",
    "\n",
    "Using the above example again, the three entries that sum to `2020` are `979`, `366`, and `675`. Multiplying them together produces the answer, `241861950`.\n",
    "\n",
    "In your expense report, <strong>what is the product of the three entries that sum to 2020?</strong>"
   ]
  },
  {
   "cell_type": "code",
   "execution_count": 3,
   "metadata": {},
   "outputs": [
    {
     "name": "stdout",
     "output_type": "stream",
     "text": [
      "295668576\n"
     ]
    }
   ],
   "source": [
    "def multiply_three(data_input):\n",
    "    first_entry = 0\n",
    "    second_entry = 0\n",
    "    third_entry = 0\n",
    "    \n",
    "    while data_input:\n",
    "        third_entry = data_input.pop()\n",
    "        remainder = 2020 - third_entry\n",
    "        try:\n",
    "            first_entry, second_entry = find_entries(data_input, target=remainder)      \n",
    "            return first_entry * second_entry * third_entry\n",
    "        except:\n",
    "            continue\n",
    "\n",
    "print(multiply_three(expense_report))"
   ]
  }
 ],
 "metadata": {
  "kernelspec": {
   "display_name": "Python 3",
   "language": "python",
   "name": "python3"
  },
  "language_info": {
   "codemirror_mode": {
    "name": "ipython",
    "version": 3
   },
   "file_extension": ".py",
   "mimetype": "text/x-python",
   "name": "python",
   "nbconvert_exporter": "python",
   "pygments_lexer": "ipython3",
   "version": "3.8.5"
  }
 },
 "nbformat": 4,
 "nbformat_minor": 4
}

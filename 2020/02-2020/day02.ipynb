{
 "cells": [
  {
   "cell_type": "markdown",
   "metadata": {},
   "source": [
    "# Day 2: Password Philosophy\n",
    "\n",
    "## Part One\n",
    "<hr>\n",
    "Your flight departs in a few days from the coastal airport; the easiest way down to the coast from here is via <a href=\"https://en.wikipedia.org/wiki/Toboggan\">toboggan</a>.\n",
    "\n",
    "The shopkeeper at the North Pole Toboggan Rental Shop is having a bad day. \"Something's wrong with our computers; we can't log in!\" You ask if you can take a look.\n",
    "\n",
    "Their password database seems to be a little corrupted: some of the passwords wouldn't have been allowed by the Official Toboggan Corporate Policy that was in effect when they were chosen.\n",
    "\n",
    "To try to debug the problem, they have created a list (your puzzle input) of <strong>passwords</strong> (according to the corrupted database) and <strong>the corporate policy when that password was set</strong>.\n",
    "\n",
    "For example, suppose you have the following list:\n",
    "\n",
    "`1-3 a: abcde\n",
    "1-3 b: cdefg\n",
    "2-9 c: ccccccccc`\n",
    "\n",
    "Each line gives the password policy and then the password. The password policy indicates the lowest and highest number of times a given letter must appear for the password to be valid. For example, `1-3 a` means that the password must contain `a` at least `1` time and at most `3` times.\n",
    "\n",
    "In the above example, `2` passwords are valid. The middle password, `cdefg`, is not; it contains no instances of `b`, but needs at least `1`. The first and third passwords are valid: they contain one `a` or nine `c`, both within the limits of their respective policies.\n",
    "\n",
    "<strong>How many passwords are valid according to their policies?<strong>"
   ]
  },
  {
   "cell_type": "code",
   "execution_count": 14,
   "metadata": {},
   "outputs": [],
   "source": [
    "passwords_list = list(line.rstrip() for line in open(\"day02_input.txt\", \"r\"))"
   ]
  },
  {
   "cell_type": "code",
   "execution_count": 15,
   "metadata": {},
   "outputs": [],
   "source": [
    "def format_passwords(data_input):\n",
    "    formatted_passwords = []\n",
    "    \n",
    "    for password in data_input:\n",
    "        formatted_passwords.append(password.replace(\"-\", \" \").replace(\":\", \"\").split(\" \"))\n",
    "    \n",
    "    return formatted_passwords"
   ]
  },
  {
   "cell_type": "code",
   "execution_count": 20,
   "metadata": {},
   "outputs": [],
   "source": [
    "def count_valid_policy_one(formatted_data):\n",
    "    valid_passwords_amount = 0\n",
    "    \n",
    "    for data_list in formatted_data:\n",
    "        minimun = int(data_list[0])\n",
    "        maximun = int(data_list[1])\n",
    "        target_letter = data_list[2]\n",
    "        password_to_verify = data_list[3]\n",
    "        \n",
    "        if(minimun <= password_to_verify.count(target_letter) <= maximun):\n",
    "            valid_passwords_amount = valid_passwords_amount + 1\n",
    "        \n",
    "    return valid_passwords_amount"
   ]
  },
  {
   "cell_type": "code",
   "execution_count": 21,
   "metadata": {},
   "outputs": [
    {
     "data": {
      "text/plain": [
       "517"
      ]
     },
     "execution_count": 21,
     "metadata": {},
     "output_type": "execute_result"
    }
   ],
   "source": [
    "count_valid(format_passwords(passwords_list))"
   ]
  },
  {
   "cell_type": "markdown",
   "metadata": {},
   "source": [
    "## Part Two\n",
    "<hr>\n",
    "While it appears you validated the passwords correctly, they don't seem to be what the Official Toboggan Corporate Authentication System is expecting.\n",
    "\n",
    "The shopkeeper suddenly realizes that he just accidentally explained the password policy rules from his old job at the sled rental place down the street! The Official Toboggan Corporate Policy actually works a little differently.\n",
    "\n",
    "Each policy actually describes <strong>two positions in the password</strong>, where `1` means the first character, `2` means the second character, and so on (Be careful; Toboggan Corporate Policies have no concept of \"index zero\"!). <strong>Exactly one of these positions</strong> must contain the given letter. Other occurrences of the letter are irrelevant for the purposes of policy enforcement.\n",
    "\n",
    "Given the same example list from above:<br>\n",
    "1-3 a: abcde is <strong>valid</strong>: position 1 contains a and position 3 does not.<br>\n",
    "1-3 b: cdefg is <strong>invalid</strong>: neither position 1 nor position 3 contains b.<br>\n",
    "2-9 c: ccccccccc is <strong>invalid</strong>: both position 2 and position 9 contain c.<br>\n",
    "\n",
    "<strong>How many passwords are valid</strong> according to the new interpretation of the policies?"
   ]
  },
  {
   "cell_type": "code",
   "execution_count": 25,
   "metadata": {},
   "outputs": [],
   "source": [
    "def count_valid_policy_two(formatted_data):\n",
    "    valid_passwords_amount = 0\n",
    "    \n",
    "    for data_list in formatted_data:\n",
    "        position_one = int(data_list[0])\n",
    "        position_two = int(data_list[1])\n",
    "        target_letter = data_list[2]\n",
    "        password_to_verify = data_list[3]\n",
    "        \n",
    "        if(password_to_verify[position_one-1] == target_letter \n",
    "           and password_to_verify[position_two-1] != target_letter):\n",
    "            valid_passwords_amount = valid_passwords_amount + 1\n",
    "        \n",
    "        if(password_to_verify[position_one-1] != target_letter\n",
    "           and password_to_verify[position_two-1] == target_letter):\n",
    "            valid_passwords_amount = valid_passwords_amount + 1\n",
    "\n",
    "    return valid_passwords_amount"
   ]
  },
  {
   "cell_type": "code",
   "execution_count": 26,
   "metadata": {},
   "outputs": [
    {
     "data": {
      "text/plain": [
       "284"
      ]
     },
     "execution_count": 26,
     "metadata": {},
     "output_type": "execute_result"
    }
   ],
   "source": [
    "count_valid_policy_two(format_passwords(passwords_list))"
   ]
  },
  {
   "cell_type": "code",
   "execution_count": null,
   "metadata": {},
   "outputs": [],
   "source": []
  }
 ],
 "metadata": {
  "kernelspec": {
   "display_name": "Python 3",
   "language": "python",
   "name": "python3"
  },
  "language_info": {
   "codemirror_mode": {
    "name": "ipython",
    "version": 3
   },
   "file_extension": ".py",
   "mimetype": "text/x-python",
   "name": "python",
   "nbconvert_exporter": "python",
   "pygments_lexer": "ipython3",
   "version": "3.8.5"
  }
 },
 "nbformat": 4,
 "nbformat_minor": 4
}
